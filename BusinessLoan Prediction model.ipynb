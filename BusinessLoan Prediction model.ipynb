{
 "cells": [
  {
   "cell_type": "markdown",
   "id": "421d281f",
   "metadata": {
    "id": "numeric-modem"
   },
   "source": [
    "# Import Modules"
   ]
  },
  {
   "cell_type": "code",
   "execution_count": 2,
   "id": "21660368",
   "metadata": {},
   "outputs": [
    {
     "name": "stdout",
     "output_type": "stream",
     "text": [
      "Requirement already satisfied: xgboost in c:\\users\\hp\\anaconda3\\lib\\site-packages (1.7.4)\n",
      "Requirement already satisfied: numpy in c:\\users\\hp\\anaconda3\\lib\\site-packages (from xgboost) (1.20.3)\n",
      "Requirement already satisfied: scipy in c:\\users\\hp\\anaconda3\\lib\\site-packages (from xgboost) (1.7.1)\n"
     ]
    }
   ],
   "source": [
    "!pip install xgboost"
   ]
  },
  {
   "cell_type": "code",
   "execution_count": 3,
   "id": "88cec6ad",
   "metadata": {
    "executionInfo": {
     "elapsed": 2395,
     "status": "ok",
     "timestamp": 1674331930335,
     "user": {
      "displayName": "HARSH AGARWAL 19BCE10093",
      "userId": "01922968235800935607"
     },
     "user_tz": -330
    },
    "id": "outer-trustee"
   },
   "outputs": [],
   "source": [
    "import numpy as np\n",
    "from matplotlib import pyplot as plt\n",
    "import matplotlib\n",
    "import seaborn as sns\n",
    "import pandas as pd\n",
    "import xgboost as xgb\n",
    "%matplotlib inline"
   ]
  },
  {
   "cell_type": "markdown",
   "id": "ac4d6df3",
   "metadata": {
    "id": "abstract-separation"
   },
   "source": [
    "# Loading the Dataset"
   ]
  },
  {
   "cell_type": "code",
   "execution_count": 4,
   "id": "27ac203a",
   "metadata": {
    "colab": {
     "base_uri": "https://localhost:8080/",
     "height": 328
    },
    "executionInfo": {
     "elapsed": 452,
     "status": "error",
     "timestamp": 1674332613676,
     "user": {
      "displayName": "HARSH AGARWAL 19BCE10093",
      "userId": "01922968235800935607"
     },
     "user_tz": -330
    },
    "id": "anticipated-weight",
    "outputId": "b123228d-4ab3-4546-a8ce-7cb98158f858"
   },
   "outputs": [
    {
     "data": {
      "text/html": [
       "<div>\n",
       "<style scoped>\n",
       "    .dataframe tbody tr th:only-of-type {\n",
       "        vertical-align: middle;\n",
       "    }\n",
       "\n",
       "    .dataframe tbody tr th {\n",
       "        vertical-align: top;\n",
       "    }\n",
       "\n",
       "    .dataframe thead th {\n",
       "        text-align: right;\n",
       "    }\n",
       "</style>\n",
       "<table border=\"1\" class=\"dataframe\">\n",
       "  <thead>\n",
       "    <tr style=\"text-align: right;\">\n",
       "      <th></th>\n",
       "      <th>Sr_no</th>\n",
       "      <th>Cases</th>\n",
       "      <th>Education</th>\n",
       "      <th>Applicant_Income</th>\n",
       "      <th>Family_Income</th>\n",
       "      <th>Total_assets</th>\n",
       "      <th>Business_type</th>\n",
       "      <th>Credit</th>\n",
       "      <th>Loan_Amount</th>\n",
       "      <th>Loan_Amount_Term</th>\n",
       "      <th>...</th>\n",
       "      <th>Competition</th>\n",
       "      <th>Rent_Wages</th>\n",
       "      <th>Size_Shop</th>\n",
       "      <th>Location</th>\n",
       "      <th>Supply</th>\n",
       "      <th>Total_Workers</th>\n",
       "      <th>No_customers</th>\n",
       "      <th>Freq_Supply_pay</th>\n",
       "      <th>Nature</th>\n",
       "      <th>Loan_Status</th>\n",
       "    </tr>\n",
       "  </thead>\n",
       "  <tbody>\n",
       "    <tr>\n",
       "      <th>0</th>\n",
       "      <td>1</td>\n",
       "      <td>1</td>\n",
       "      <td>Graduate</td>\n",
       "      <td>5849</td>\n",
       "      <td>0.0</td>\n",
       "      <td>0</td>\n",
       "      <td>Yes</td>\n",
       "      <td>Yes</td>\n",
       "      <td>NaN</td>\n",
       "      <td>360.0</td>\n",
       "      <td>...</td>\n",
       "      <td>3</td>\n",
       "      <td>1</td>\n",
       "      <td>3</td>\n",
       "      <td>0</td>\n",
       "      <td>3</td>\n",
       "      <td>6</td>\n",
       "      <td>4</td>\n",
       "      <td>0</td>\n",
       "      <td>0</td>\n",
       "      <td>Y</td>\n",
       "    </tr>\n",
       "    <tr>\n",
       "      <th>1</th>\n",
       "      <td>2</td>\n",
       "      <td>2</td>\n",
       "      <td>Graduate</td>\n",
       "      <td>4583</td>\n",
       "      <td>1508.0</td>\n",
       "      <td>3</td>\n",
       "      <td>No</td>\n",
       "      <td>Yes</td>\n",
       "      <td>128.0</td>\n",
       "      <td>360.0</td>\n",
       "      <td>...</td>\n",
       "      <td>0</td>\n",
       "      <td>5</td>\n",
       "      <td>0</td>\n",
       "      <td>0</td>\n",
       "      <td>5</td>\n",
       "      <td>1</td>\n",
       "      <td>1</td>\n",
       "      <td>1</td>\n",
       "      <td>1</td>\n",
       "      <td>N</td>\n",
       "    </tr>\n",
       "    <tr>\n",
       "      <th>2</th>\n",
       "      <td>3</td>\n",
       "      <td>0</td>\n",
       "      <td>Graduate</td>\n",
       "      <td>3000</td>\n",
       "      <td>0.0</td>\n",
       "      <td>0</td>\n",
       "      <td>No</td>\n",
       "      <td>Yes</td>\n",
       "      <td>66.0</td>\n",
       "      <td>360.0</td>\n",
       "      <td>...</td>\n",
       "      <td>1</td>\n",
       "      <td>4</td>\n",
       "      <td>0</td>\n",
       "      <td>5</td>\n",
       "      <td>5</td>\n",
       "      <td>2</td>\n",
       "      <td>3</td>\n",
       "      <td>4</td>\n",
       "      <td>1</td>\n",
       "      <td>Y</td>\n",
       "    </tr>\n",
       "    <tr>\n",
       "      <th>3</th>\n",
       "      <td>4</td>\n",
       "      <td>0</td>\n",
       "      <td>Not Graduate</td>\n",
       "      <td>2583</td>\n",
       "      <td>2358.0</td>\n",
       "      <td>2</td>\n",
       "      <td>Yes</td>\n",
       "      <td>No</td>\n",
       "      <td>120.0</td>\n",
       "      <td>360.0</td>\n",
       "      <td>...</td>\n",
       "      <td>0</td>\n",
       "      <td>3</td>\n",
       "      <td>2</td>\n",
       "      <td>5</td>\n",
       "      <td>3</td>\n",
       "      <td>7</td>\n",
       "      <td>4</td>\n",
       "      <td>5</td>\n",
       "      <td>1</td>\n",
       "      <td>Y</td>\n",
       "    </tr>\n",
       "    <tr>\n",
       "      <th>4</th>\n",
       "      <td>5</td>\n",
       "      <td>2</td>\n",
       "      <td>Graduate</td>\n",
       "      <td>6000</td>\n",
       "      <td>0.0</td>\n",
       "      <td>2</td>\n",
       "      <td>Yes</td>\n",
       "      <td>Yes</td>\n",
       "      <td>141.0</td>\n",
       "      <td>360.0</td>\n",
       "      <td>...</td>\n",
       "      <td>0</td>\n",
       "      <td>4</td>\n",
       "      <td>3</td>\n",
       "      <td>0</td>\n",
       "      <td>3</td>\n",
       "      <td>2</td>\n",
       "      <td>2</td>\n",
       "      <td>0</td>\n",
       "      <td>2</td>\n",
       "      <td>Y</td>\n",
       "    </tr>\n",
       "  </tbody>\n",
       "</table>\n",
       "<p>5 rows × 22 columns</p>\n",
       "</div>"
      ],
      "text/plain": [
       "   Sr_no  Cases     Education  Applicant_Income  Family_Income  Total_assets  \\\n",
       "0      1      1      Graduate              5849            0.0             0   \n",
       "1      2      2      Graduate              4583         1508.0             3   \n",
       "2      3      0      Graduate              3000            0.0             0   \n",
       "3      4      0  Not Graduate              2583         2358.0             2   \n",
       "4      5      2      Graduate              6000            0.0             2   \n",
       "\n",
       "  Business_type Credit  Loan_Amount  Loan_Amount_Term  ...  Competition  \\\n",
       "0           Yes    Yes          NaN             360.0  ...            3   \n",
       "1            No    Yes        128.0             360.0  ...            0   \n",
       "2            No    Yes         66.0             360.0  ...            1   \n",
       "3           Yes     No        120.0             360.0  ...            0   \n",
       "4           Yes    Yes        141.0             360.0  ...            0   \n",
       "\n",
       "   Rent_Wages  Size_Shop  Location  Supply  Total_Workers  No_customers  \\\n",
       "0           1          3         0       3              6             4   \n",
       "1           5          0         0       5              1             1   \n",
       "2           4          0         5       5              2             3   \n",
       "3           3          2         5       3              7             4   \n",
       "4           4          3         0       3              2             2   \n",
       "\n",
       "   Freq_Supply_pay  Nature  Loan_Status  \n",
       "0                0       0            Y  \n",
       "1                1       1            N  \n",
       "2                4       1            Y  \n",
       "3                5       1            Y  \n",
       "4                0       2            Y  \n",
       "\n",
       "[5 rows x 22 columns]"
      ]
     },
     "execution_count": 4,
     "metadata": {},
     "output_type": "execute_result"
    }
   ],
   "source": [
    "df = pd.read_csv(\"Data_set (Final).csv\")\n",
    "df.head()"
   ]
  },
  {
   "cell_type": "code",
   "execution_count": 5,
   "id": "6a060c86",
   "metadata": {
    "id": "confident-fortune",
    "outputId": "961f48e5-084c-49d9-fba6-2ea40475c9f6",
    "scrolled": true
   },
   "outputs": [
    {
     "data": {
      "text/html": [
       "<div>\n",
       "<style scoped>\n",
       "    .dataframe tbody tr th:only-of-type {\n",
       "        vertical-align: middle;\n",
       "    }\n",
       "\n",
       "    .dataframe tbody tr th {\n",
       "        vertical-align: top;\n",
       "    }\n",
       "\n",
       "    .dataframe thead th {\n",
       "        text-align: right;\n",
       "    }\n",
       "</style>\n",
       "<table border=\"1\" class=\"dataframe\">\n",
       "  <thead>\n",
       "    <tr style=\"text-align: right;\">\n",
       "      <th></th>\n",
       "      <th>Sr_no</th>\n",
       "      <th>Cases</th>\n",
       "      <th>Applicant_Income</th>\n",
       "      <th>Family_Income</th>\n",
       "      <th>Total_assets</th>\n",
       "      <th>Loan_Amount</th>\n",
       "      <th>Loan_Amount_Term</th>\n",
       "      <th>Rating_Reviewportal</th>\n",
       "      <th>Daily_Sales</th>\n",
       "      <th>Competition</th>\n",
       "      <th>Rent_Wages</th>\n",
       "      <th>Size_Shop</th>\n",
       "      <th>Location</th>\n",
       "      <th>Supply</th>\n",
       "      <th>Total_Workers</th>\n",
       "      <th>No_customers</th>\n",
       "      <th>Freq_Supply_pay</th>\n",
       "      <th>Nature</th>\n",
       "    </tr>\n",
       "  </thead>\n",
       "  <tbody>\n",
       "    <tr>\n",
       "      <th>count</th>\n",
       "      <td>2018.000000</td>\n",
       "      <td>2018.000000</td>\n",
       "      <td>2018.000000</td>\n",
       "      <td>2018.000000</td>\n",
       "      <td>2018.000000</td>\n",
       "      <td>1946.000000</td>\n",
       "      <td>1976.000000</td>\n",
       "      <td>2018.000000</td>\n",
       "      <td>2018.000000</td>\n",
       "      <td>2018.000000</td>\n",
       "      <td>2018.000000</td>\n",
       "      <td>2018.000000</td>\n",
       "      <td>2018.000000</td>\n",
       "      <td>2018.000000</td>\n",
       "      <td>2018.000000</td>\n",
       "      <td>2018.000000</td>\n",
       "      <td>2018.000000</td>\n",
       "      <td>2018.000000</td>\n",
       "    </tr>\n",
       "    <tr>\n",
       "      <th>mean</th>\n",
       "      <td>1009.500000</td>\n",
       "      <td>1.989098</td>\n",
       "      <td>5360.997027</td>\n",
       "      <td>1653.536551</td>\n",
       "      <td>2.450942</td>\n",
       "      <td>146.882837</td>\n",
       "      <td>341.259109</td>\n",
       "      <td>2.474232</td>\n",
       "      <td>2.488603</td>\n",
       "      <td>2.605550</td>\n",
       "      <td>2.577304</td>\n",
       "      <td>2.414767</td>\n",
       "      <td>2.611001</td>\n",
       "      <td>2.545590</td>\n",
       "      <td>3.532706</td>\n",
       "      <td>2.593657</td>\n",
       "      <td>2.512389</td>\n",
       "      <td>2.356293</td>\n",
       "    </tr>\n",
       "    <tr>\n",
       "      <th>std</th>\n",
       "      <td>582.690741</td>\n",
       "      <td>1.386199</td>\n",
       "      <td>5927.941051</td>\n",
       "      <td>3256.116204</td>\n",
       "      <td>1.679832</td>\n",
       "      <td>85.844594</td>\n",
       "      <td>65.989348</td>\n",
       "      <td>1.644564</td>\n",
       "      <td>1.651945</td>\n",
       "      <td>1.738197</td>\n",
       "      <td>1.660955</td>\n",
       "      <td>1.752375</td>\n",
       "      <td>1.713725</td>\n",
       "      <td>1.672239</td>\n",
       "      <td>2.322994</td>\n",
       "      <td>1.624185</td>\n",
       "      <td>1.747608</td>\n",
       "      <td>1.695283</td>\n",
       "    </tr>\n",
       "    <tr>\n",
       "      <th>min</th>\n",
       "      <td>1.000000</td>\n",
       "      <td>0.000000</td>\n",
       "      <td>150.000000</td>\n",
       "      <td>0.000000</td>\n",
       "      <td>0.000000</td>\n",
       "      <td>9.000000</td>\n",
       "      <td>12.000000</td>\n",
       "      <td>0.000000</td>\n",
       "      <td>0.000000</td>\n",
       "      <td>0.000000</td>\n",
       "      <td>0.000000</td>\n",
       "      <td>0.000000</td>\n",
       "      <td>0.000000</td>\n",
       "      <td>0.000000</td>\n",
       "      <td>0.000000</td>\n",
       "      <td>0.000000</td>\n",
       "      <td>0.000000</td>\n",
       "      <td>0.000000</td>\n",
       "    </tr>\n",
       "    <tr>\n",
       "      <th>25%</th>\n",
       "      <td>505.250000</td>\n",
       "      <td>1.000000</td>\n",
       "      <td>2882.000000</td>\n",
       "      <td>0.000000</td>\n",
       "      <td>1.000000</td>\n",
       "      <td>100.000000</td>\n",
       "      <td>360.000000</td>\n",
       "      <td>1.000000</td>\n",
       "      <td>1.000000</td>\n",
       "      <td>1.000000</td>\n",
       "      <td>1.000000</td>\n",
       "      <td>1.000000</td>\n",
       "      <td>1.000000</td>\n",
       "      <td>1.000000</td>\n",
       "      <td>1.000000</td>\n",
       "      <td>1.000000</td>\n",
       "      <td>1.000000</td>\n",
       "      <td>1.000000</td>\n",
       "    </tr>\n",
       "    <tr>\n",
       "      <th>50%</th>\n",
       "      <td>1009.500000</td>\n",
       "      <td>2.000000</td>\n",
       "      <td>3787.500000</td>\n",
       "      <td>1126.000000</td>\n",
       "      <td>2.000000</td>\n",
       "      <td>128.000000</td>\n",
       "      <td>360.000000</td>\n",
       "      <td>2.500000</td>\n",
       "      <td>3.000000</td>\n",
       "      <td>3.000000</td>\n",
       "      <td>3.000000</td>\n",
       "      <td>2.000000</td>\n",
       "      <td>3.000000</td>\n",
       "      <td>2.000000</td>\n",
       "      <td>4.000000</td>\n",
       "      <td>3.000000</td>\n",
       "      <td>2.000000</td>\n",
       "      <td>2.000000</td>\n",
       "    </tr>\n",
       "    <tr>\n",
       "      <th>75%</th>\n",
       "      <td>1513.750000</td>\n",
       "      <td>3.000000</td>\n",
       "      <td>5800.000000</td>\n",
       "      <td>2302.000000</td>\n",
       "      <td>4.000000</td>\n",
       "      <td>170.000000</td>\n",
       "      <td>360.000000</td>\n",
       "      <td>4.000000</td>\n",
       "      <td>4.000000</td>\n",
       "      <td>4.000000</td>\n",
       "      <td>4.000000</td>\n",
       "      <td>4.000000</td>\n",
       "      <td>4.000000</td>\n",
       "      <td>4.000000</td>\n",
       "      <td>6.000000</td>\n",
       "      <td>4.000000</td>\n",
       "      <td>4.000000</td>\n",
       "      <td>4.000000</td>\n",
       "    </tr>\n",
       "    <tr>\n",
       "      <th>max</th>\n",
       "      <td>2018.000000</td>\n",
       "      <td>4.000000</td>\n",
       "      <td>81000.000000</td>\n",
       "      <td>41667.000000</td>\n",
       "      <td>5.000000</td>\n",
       "      <td>700.000000</td>\n",
       "      <td>480.000000</td>\n",
       "      <td>5.000000</td>\n",
       "      <td>5.000000</td>\n",
       "      <td>5.000000</td>\n",
       "      <td>5.000000</td>\n",
       "      <td>5.000000</td>\n",
       "      <td>5.000000</td>\n",
       "      <td>5.000000</td>\n",
       "      <td>7.000000</td>\n",
       "      <td>5.000000</td>\n",
       "      <td>5.000000</td>\n",
       "      <td>5.000000</td>\n",
       "    </tr>\n",
       "  </tbody>\n",
       "</table>\n",
       "</div>"
      ],
      "text/plain": [
       "             Sr_no        Cases  Applicant_Income  Family_Income  \\\n",
       "count  2018.000000  2018.000000       2018.000000    2018.000000   \n",
       "mean   1009.500000     1.989098       5360.997027    1653.536551   \n",
       "std     582.690741     1.386199       5927.941051    3256.116204   \n",
       "min       1.000000     0.000000        150.000000       0.000000   \n",
       "25%     505.250000     1.000000       2882.000000       0.000000   \n",
       "50%    1009.500000     2.000000       3787.500000    1126.000000   \n",
       "75%    1513.750000     3.000000       5800.000000    2302.000000   \n",
       "max    2018.000000     4.000000      81000.000000   41667.000000   \n",
       "\n",
       "       Total_assets  Loan_Amount  Loan_Amount_Term  Rating_Reviewportal  \\\n",
       "count   2018.000000  1946.000000       1976.000000          2018.000000   \n",
       "mean       2.450942   146.882837        341.259109             2.474232   \n",
       "std        1.679832    85.844594         65.989348             1.644564   \n",
       "min        0.000000     9.000000         12.000000             0.000000   \n",
       "25%        1.000000   100.000000        360.000000             1.000000   \n",
       "50%        2.000000   128.000000        360.000000             2.500000   \n",
       "75%        4.000000   170.000000        360.000000             4.000000   \n",
       "max        5.000000   700.000000        480.000000             5.000000   \n",
       "\n",
       "       Daily_Sales  Competition   Rent_Wages    Size_Shop     Location  \\\n",
       "count  2018.000000  2018.000000  2018.000000  2018.000000  2018.000000   \n",
       "mean      2.488603     2.605550     2.577304     2.414767     2.611001   \n",
       "std       1.651945     1.738197     1.660955     1.752375     1.713725   \n",
       "min       0.000000     0.000000     0.000000     0.000000     0.000000   \n",
       "25%       1.000000     1.000000     1.000000     1.000000     1.000000   \n",
       "50%       3.000000     3.000000     3.000000     2.000000     3.000000   \n",
       "75%       4.000000     4.000000     4.000000     4.000000     4.000000   \n",
       "max       5.000000     5.000000     5.000000     5.000000     5.000000   \n",
       "\n",
       "            Supply  Total_Workers  No_customers  Freq_Supply_pay       Nature  \n",
       "count  2018.000000    2018.000000   2018.000000      2018.000000  2018.000000  \n",
       "mean      2.545590       3.532706      2.593657         2.512389     2.356293  \n",
       "std       1.672239       2.322994      1.624185         1.747608     1.695283  \n",
       "min       0.000000       0.000000      0.000000         0.000000     0.000000  \n",
       "25%       1.000000       1.000000      1.000000         1.000000     1.000000  \n",
       "50%       2.000000       4.000000      3.000000         2.000000     2.000000  \n",
       "75%       4.000000       6.000000      4.000000         4.000000     4.000000  \n",
       "max       5.000000       7.000000      5.000000         5.000000     5.000000  "
      ]
     },
     "execution_count": 5,
     "metadata": {},
     "output_type": "execute_result"
    }
   ],
   "source": [
    "df.describe()"
   ]
  },
  {
   "cell_type": "code",
   "execution_count": 6,
   "id": "5c45d7b1",
   "metadata": {
    "id": "premium-authority",
    "outputId": "58857a18-780d-4e7e-a53e-4beb7e55a703"
   },
   "outputs": [
    {
     "data": {
      "text/plain": [
       "Y    1386\n",
       "N     632\n",
       "Name: Loan_Status, dtype: int64"
      ]
     },
     "execution_count": 6,
     "metadata": {},
     "output_type": "execute_result"
    }
   ],
   "source": [
    "df['Loan_Status'].value_counts()"
   ]
  },
  {
   "cell_type": "code",
   "execution_count": 7,
   "id": "cf0e5af0",
   "metadata": {
    "id": "assured-string",
    "outputId": "a31d8cc0-2dd5-473f-d2fc-9f1561cc1ad1"
   },
   "outputs": [
    {
     "name": "stdout",
     "output_type": "stream",
     "text": [
      "<class 'pandas.core.frame.DataFrame'>\n",
      "RangeIndex: 2018 entries, 0 to 2017\n",
      "Data columns (total 22 columns):\n",
      " #   Column               Non-Null Count  Dtype  \n",
      "---  ------               --------------  -----  \n",
      " 0   Sr_no                2018 non-null   int64  \n",
      " 1   Cases                2018 non-null   int64  \n",
      " 2   Education            2018 non-null   object \n",
      " 3   Applicant_Income     2018 non-null   int64  \n",
      " 4   Family_Income        2018 non-null   float64\n",
      " 5   Total_assets         2018 non-null   int64  \n",
      " 6   Business_type        2018 non-null   object \n",
      " 7   Credit               2018 non-null   object \n",
      " 8   Loan_Amount          1946 non-null   float64\n",
      " 9   Loan_Amount_Term     1976 non-null   float64\n",
      " 10  Rating_Reviewportal  2018 non-null   int64  \n",
      " 11  Daily_Sales          2018 non-null   int64  \n",
      " 12  Competition          2018 non-null   int64  \n",
      " 13  Rent_Wages           2018 non-null   int64  \n",
      " 14  Size_Shop            2018 non-null   int64  \n",
      " 15  Location             2018 non-null   int64  \n",
      " 16  Supply               2018 non-null   int64  \n",
      " 17  Total_Workers        2018 non-null   int64  \n",
      " 18  No_customers         2018 non-null   int64  \n",
      " 19  Freq_Supply_pay      2018 non-null   int64  \n",
      " 20  Nature               2018 non-null   int64  \n",
      " 21  Loan_Status          2018 non-null   object \n",
      "dtypes: float64(3), int64(15), object(4)\n",
      "memory usage: 347.0+ KB\n"
     ]
    }
   ],
   "source": [
    "df.info()"
   ]
  },
  {
   "cell_type": "markdown",
   "id": "17d1b7cc",
   "metadata": {
    "id": "civil-johns"
   },
   "source": [
    "# Preprocessing the Dataset"
   ]
  },
  {
   "cell_type": "code",
   "execution_count": 8,
   "id": "960a3e39",
   "metadata": {
    "id": "tropical-steel",
    "outputId": "ae115713-eb84-4697-e0b5-da25e6140e85"
   },
   "outputs": [
    {
     "data": {
      "text/plain": [
       "Sr_no                   0\n",
       "Cases                   0\n",
       "Education               0\n",
       "Applicant_Income        0\n",
       "Family_Income           0\n",
       "Total_assets            0\n",
       "Business_type           0\n",
       "Credit                  0\n",
       "Loan_Amount            72\n",
       "Loan_Amount_Term       42\n",
       "Rating_Reviewportal     0\n",
       "Daily_Sales             0\n",
       "Competition             0\n",
       "Rent_Wages              0\n",
       "Size_Shop               0\n",
       "Location                0\n",
       "Supply                  0\n",
       "Total_Workers           0\n",
       "No_customers            0\n",
       "Freq_Supply_pay         0\n",
       "Nature                  0\n",
       "Loan_Status             0\n",
       "dtype: int64"
      ]
     },
     "execution_count": 8,
     "metadata": {},
     "output_type": "execute_result"
    }
   ],
   "source": [
    "# find the null values\n",
    "df.isnull().sum()"
   ]
  },
  {
   "cell_type": "code",
   "execution_count": 9,
   "id": "12a222b7",
   "metadata": {
    "id": "tutorial-printer"
   },
   "outputs": [],
   "source": [
    "# fill the missing values for numerical terms - mean\n",
    "df['Loan_Amount'] = df['Loan_Amount'].fillna(df['Loan_Amount'].mean())\n",
    "df['Loan_Amount_Term'] = df['Loan_Amount_Term'].fillna(df['Loan_Amount_Term'].mean())"
   ]
  },
  {
   "cell_type": "code",
   "execution_count": 10,
   "id": "4ca7e4d8",
   "metadata": {
    "id": "viral-killing",
    "outputId": "91630e11-4b6a-4cc6-c27f-bc70fe86b030"
   },
   "outputs": [
    {
     "data": {
      "text/plain": [
       "Sr_no                  0\n",
       "Cases                  0\n",
       "Education              0\n",
       "Applicant_Income       0\n",
       "Family_Income          0\n",
       "Total_assets           0\n",
       "Business_type          0\n",
       "Credit                 0\n",
       "Loan_Amount            0\n",
       "Loan_Amount_Term       0\n",
       "Rating_Reviewportal    0\n",
       "Daily_Sales            0\n",
       "Competition            0\n",
       "Rent_Wages             0\n",
       "Size_Shop              0\n",
       "Location               0\n",
       "Supply                 0\n",
       "Total_Workers          0\n",
       "No_customers           0\n",
       "Freq_Supply_pay        0\n",
       "Nature                 0\n",
       "Loan_Status            0\n",
       "dtype: int64"
      ]
     },
     "execution_count": 10,
     "metadata": {},
     "output_type": "execute_result"
    }
   ],
   "source": [
    "#check whether all null values are removed\n",
    "df.isnull().sum()"
   ]
  },
  {
   "cell_type": "code",
   "execution_count": 11,
   "id": "b0958957",
   "metadata": {
    "id": "younger-brown",
    "outputId": "4a36fb53-aa76-4047-aef6-e35894870c95"
   },
   "outputs": [
    {
     "name": "stderr",
     "output_type": "stream",
     "text": [
      "C:\\Users\\hp\\anaconda3\\lib\\site-packages\\seaborn\\_decorators.py:36: FutureWarning: Pass the following variable as a keyword arg: x. From version 0.12, the only valid positional argument will be `data`, and passing other arguments without an explicit keyword will result in an error or misinterpretation.\n",
      "  warnings.warn(\n"
     ]
    },
    {
     "data": {
      "text/plain": [
       "<AxesSubplot:xlabel='Cases', ylabel='count'>"
      ]
     },
     "execution_count": 11,
     "metadata": {},
     "output_type": "execute_result"
    },
    {
     "data": {
      "image/png": "[encoded data removed]",
      "text/plain": [
       "<Figure size 432x288 with 1 Axes>"
      ]
     },
     "metadata": {
      "needs_background": "light"
     },
     "output_type": "display_data"
    }
   ],
   "source": [
    "# categorical attributes visualization\n",
    "sns.countplot(df['Cases'])"
   ]
  },
  {
   "cell_type": "code",
   "execution_count": 12,
   "id": "6b44b523",
   "metadata": {
    "id": "permanent-cursor",
    "outputId": "2f7a9e2a-8729-496d-b9e9-f1035ad45348"
   },
   "outputs": [
    {
     "name": "stderr",
     "output_type": "stream",
     "text": [
      "C:\\Users\\hp\\anaconda3\\lib\\site-packages\\seaborn\\_decorators.py:36: FutureWarning: Pass the following variable as a keyword arg: x. From version 0.12, the only valid positional argument will be `data`, and passing other arguments without an explicit keyword will result in an error or misinterpretation.\n",
      "  warnings.warn(\n"
     ]
    },
    {
     "data": {
      "text/plain": [
       "<AxesSubplot:xlabel='Education', ylabel='count'>"
      ]
     },
     "execution_count": 12,
     "metadata": {},
     "output_type": "execute_result"
    },
    {
     "data": {
      "image/png": "[encoded data removed]",
      "text/plain": [
       "<Figure size 432x288 with 1 Axes>"
      ]
     },
     "metadata": {
      "needs_background": "light"
     },
     "output_type": "display_data"
    }
   ],
   "source": [
    "sns.countplot(df['Education'])"
   ]
  },
  {
   "cell_type": "code",
   "execution_count": 13,
   "id": "4384b0b4",
   "metadata": {
    "id": "enclosed-corruption",
    "outputId": "cb0f5d9b-75ae-4b3b-ed36-7c1881f1d13c"
   },
   "outputs": [
    {
     "name": "stderr",
     "output_type": "stream",
     "text": [
      "C:\\Users\\hp\\anaconda3\\lib\\site-packages\\seaborn\\_decorators.py:36: FutureWarning: Pass the following variable as a keyword arg: x. From version 0.12, the only valid positional argument will be `data`, and passing other arguments without an explicit keyword will result in an error or misinterpretation.\n",
      "  warnings.warn(\n"
     ]
    },
    {
     "data": {
      "text/plain": [
       "<AxesSubplot:xlabel='Total_assets', ylabel='count'>"
      ]
     },
     "execution_count": 13,
     "metadata": {},
     "output_type": "execute_result"
    },
    {
     "data": {
      "image/png": "[encoded data removed]",
      "text/plain": [
       "<Figure size 432x288 with 1 Axes>"
      ]
     },
     "metadata": {
      "needs_background": "light"
     },
     "output_type": "display_data"
    }
   ],
   "source": [
    "# rating\n",
    "sns.countplot(df['Total_assets'])"
   ]
  },
  {
   "cell_type": "code",
   "execution_count": null,
   "id": "0f9f2e35",
   "metadata": {
    "id": "external-excess",
    "outputId": "3a1e7341-2ced-4cdf-a821-00941258cdb5"
   },
   "outputs": [],
   "source": [
    "# yes / no\n",
    "sns.countplot(df['Business_type'])"
   ]
  },
  {
   "cell_type": "code",
   "execution_count": null,
   "id": "c6fa6020",
   "metadata": {
    "id": "extended-engineering",
    "outputId": "04a32823-e47d-4bd9-de4a-330b516997ce"
   },
   "outputs": [],
   "source": [
    "# yes / no\n",
    "sns.countplot(df['Credit'])"
   ]
  },
  {
   "cell_type": "code",
   "execution_count": null,
   "id": "b468bf2d",
   "metadata": {
    "id": "secondary-manhattan",
    "outputId": "193f5e3f-dc0b-422d-97ac-4af49c9c9425"
   },
   "outputs": [],
   "source": [
    "# rating\n",
    "sns.countplot(df['Rating_Reviewportal'])"
   ]
  },
  {
   "cell_type": "code",
   "execution_count": null,
   "id": "2da7e330",
   "metadata": {
    "id": "russian-sperm",
    "outputId": "aea6fa87-1995-4ffe-fc54-2bb7ffcd2127"
   },
   "outputs": [],
   "source": [
    "# rating\n",
    "sns.countplot(df['Daily_Sales'])"
   ]
  },
  {
   "cell_type": "code",
   "execution_count": null,
   "id": "64978693",
   "metadata": {
    "id": "amended-occurrence",
    "outputId": "4266c37a-e118-47ef-dfed-841ee1d6e972"
   },
   "outputs": [],
   "source": [
    "# rating\n",
    "sns.countplot(df['Competition'])"
   ]
  },
  {
   "cell_type": "code",
   "execution_count": null,
   "id": "4f9058bf",
   "metadata": {
    "id": "radical-connection",
    "outputId": "1b5210d1-9d89-4da9-8727-bd16318bcf73"
   },
   "outputs": [],
   "source": [
    "# rating\n",
    "sns.countplot(df['Rent_Wages'])"
   ]
  },
  {
   "cell_type": "code",
   "execution_count": null,
   "id": "49c708dc",
   "metadata": {
    "id": "helpful-share",
    "outputId": "09a59d8a-dc85-4200-dd18-86857dd37d3d"
   },
   "outputs": [],
   "source": [
    "# rating\n",
    "sns.countplot(df['Size_Shop'])"
   ]
  },
  {
   "cell_type": "code",
   "execution_count": null,
   "id": "a5f9ec9f",
   "metadata": {
    "id": "olympic-positive",
    "outputId": "85d24b32-ddbf-4d29-c5d4-3bb274392371"
   },
   "outputs": [],
   "source": [
    "# rating\n",
    "sns.countplot(df['Location'])"
   ]
  },
  {
   "cell_type": "code",
   "execution_count": null,
   "id": "e6ca84cf",
   "metadata": {
    "id": "willing-canberra",
    "outputId": "7aa8ecc4-171e-4798-9e73-bd2ae650e2d8"
   },
   "outputs": [],
   "source": [
    "# rating\n",
    "sns.countplot(df['Supply'])"
   ]
  },
  {
   "cell_type": "code",
   "execution_count": null,
   "id": "3aab1bd6",
   "metadata": {
    "id": "convenient-excuse",
    "outputId": "3e8124f7-75a6-4ec2-d705-72d33feed6fd"
   },
   "outputs": [],
   "source": [
    "# value\n",
    "sns.countplot(df['Total_Workers'])"
   ]
  },
  {
   "cell_type": "code",
   "execution_count": null,
   "id": "e8e4d026",
   "metadata": {
    "id": "ruled-salon",
    "outputId": "e119aa42-5acc-469f-86ae-bb35562d3db3"
   },
   "outputs": [],
   "source": [
    "# rating\n",
    "sns.countplot(df['No_customers'])"
   ]
  },
  {
   "cell_type": "code",
   "execution_count": null,
   "id": "ff9a90da",
   "metadata": {
    "id": "announced-volume",
    "outputId": "347bf982-ad08-4606-9c08-f2f2af362a6c"
   },
   "outputs": [],
   "source": [
    "# rating\n",
    "sns.countplot(df['Freq_Supply_pay'])"
   ]
  },
  {
   "cell_type": "code",
   "execution_count": null,
   "id": "d110881f",
   "metadata": {
    "id": "focused-enzyme",
    "outputId": "dc302790-883f-4792-a8ba-a4186d20371d"
   },
   "outputs": [],
   "source": [
    "# rating\n",
    "sns.countplot(df['Nature'])"
   ]
  },
  {
   "cell_type": "code",
   "execution_count": null,
   "id": "d4c29c65",
   "metadata": {
    "id": "macro-conjunction",
    "outputId": "c6fc1e14-5215-467b-896a-733da8370e60"
   },
   "outputs": [],
   "source": [
    "# target attribute\n",
    "sns.countplot(df['Loan_Status'])"
   ]
  },
  {
   "cell_type": "code",
   "execution_count": null,
   "id": "0f13564d",
   "metadata": {
    "id": "recreational-digit",
    "outputId": "3c92c63a-c195-499f-8509-a5866c650703"
   },
   "outputs": [],
   "source": [
    "# total income\n",
    "df['Total_Income'] = df['Applicant_Income'] + df['Family_Income']\n",
    "df.head()"
   ]
  },
  {
   "cell_type": "code",
   "execution_count": null,
   "id": "6d2f3f49",
   "metadata": {
    "id": "palestinian-pierre",
    "outputId": "9c28e8b8-6ee1-45b2-8215-20ea5e4e5bb6"
   },
   "outputs": [],
   "source": [
    "df['Applicant_Income_Log'] = np.log(df['Applicant_Income'])\n",
    "sns.distplot(df['Applicant_Income_Log'])"
   ]
  },
  {
   "cell_type": "code",
   "execution_count": null,
   "id": "541b723b",
   "metadata": {
    "id": "suspended-customs",
    "outputId": "08564a8c-cb2d-4930-f6e3-892edcdd9963"
   },
   "outputs": [],
   "source": [
    "df['Loan_Amount_Log'] = np.log(df['Loan_Amount'])\n",
    "sns.distplot(df['Loan_Amount'])"
   ]
  },
  {
   "cell_type": "code",
   "execution_count": null,
   "id": "b3555d15",
   "metadata": {
    "id": "becoming-reduction",
    "outputId": "16d4752c-d936-476d-bb05-93461f276436"
   },
   "outputs": [],
   "source": [
    "df['Loan_Amount_Term_Log'] = np.log(df['Loan_Amount_Term'])\n",
    "sns.distplot(df['Loan_Amount_Term_Log'])"
   ]
  },
  {
   "cell_type": "code",
   "execution_count": null,
   "id": "1776a967",
   "metadata": {
    "id": "unlimited-salon",
    "outputId": "aa72cf4e-18c6-48c7-f763-677870a31e2d"
   },
   "outputs": [],
   "source": [
    "df['Total_Income_Log'] = np.log(df['Total_Income'])\n",
    "sns.distplot(df['Total_Income_Log'])"
   ]
  },
  {
   "cell_type": "markdown",
   "id": "c31aa483",
   "metadata": {
    "id": "vital-catalyst"
   },
   "source": [
    "# Correlation Matrix"
   ]
  },
  {
   "cell_type": "code",
   "execution_count": null,
   "id": "c1d71acf",
   "metadata": {
    "id": "suitable-compact",
    "outputId": "16c4dd13-74e2-48a3-8c47-bca4b8d4fe4b"
   },
   "outputs": [],
   "source": [
    "corr = df.corr()\n",
    "plt.figure(figsize = (30,30))\n",
    "sns.heatmap(corr, annot = True, cmap = \"BuPu\")"
   ]
  },
  {
   "cell_type": "code",
   "execution_count": null,
   "id": "d7f63943",
   "metadata": {
    "id": "verbal-tobacco",
    "outputId": "71c10140-b4a1-4222-d79a-8b3e98342113"
   },
   "outputs": [],
   "source": [
    "df.head()"
   ]
  },
  {
   "cell_type": "code",
   "execution_count": null,
   "id": "961e3cf6",
   "metadata": {
    "id": "juvenile-hughes",
    "outputId": "65bfb2ac-889d-483c-9f5a-80f2e995db55"
   },
   "outputs": [],
   "source": [
    "# drop unnecessary columns\n",
    "cols = ['Applicant_Income', 'Family_Income', 'Loan_Amount', 'Loan_Amount_Term', 'Total_Income', 'Sr_no']\n",
    "df = df.drop(columns = cols, axis =  1)\n",
    "df.head()"
   ]
  },
  {
   "cell_type": "markdown",
   "id": "e88a8117",
   "metadata": {
    "id": "prepared-tyler"
   },
   "source": [
    "# Label Encoding"
   ]
  },
  {
   "cell_type": "code",
   "execution_count": null,
   "id": "d6e21edd",
   "metadata": {
    "id": "contemporary-surgeon",
    "outputId": "88fd5894-1f8d-4149-c953-4c315d886de1"
   },
   "outputs": [],
   "source": [
    "from sklearn.preprocessing import LabelEncoder\n",
    "cols = ['Education', 'Loan_Status', 'Business_type', 'Credit']\n",
    "le = LabelEncoder()\n",
    "for col in cols:\n",
    "    df[col] = le.fit_transform(df[col])\n",
    "df.head()"
   ]
  },
  {
   "cell_type": "code",
   "execution_count": null,
   "id": "2547ad06",
   "metadata": {
    "id": "brown-contract"
   },
   "outputs": [],
   "source": [
    "# specify input and output attribute\n",
    "x = df.drop(columns = ['Loan_Status'], axis = 1)\n",
    "y = df['Loan_Status']"
   ]
  },
  {
   "cell_type": "markdown",
   "id": "03e9a56b",
   "metadata": {
    "id": "interpreted-longitude"
   },
   "source": [
    "# Train-Test Split"
   ]
  },
  {
   "cell_type": "code",
   "execution_count": null,
   "id": "9daea8fc",
   "metadata": {
    "id": "seeing-marine"
   },
   "outputs": [],
   "source": [
    "from sklearn.model_selection import train_test_split\n",
    "x_train, x_test, y_train, y_test = train_test_split(x, y)"
   ]
  },
  {
   "cell_type": "code",
   "execution_count": null,
   "id": "83efb3d1",
   "metadata": {
    "id": "certain-remedy",
    "outputId": "a21cd463-b85e-4414-b17c-0379c6209d66"
   },
   "outputs": [],
   "source": [
    "y_test.value_counts()"
   ]
  },
  {
   "cell_type": "code",
   "execution_count": null,
   "id": "ab817150",
   "metadata": {
    "id": "multiple-stock",
    "outputId": "a63cd69c-731d-49cd-d3c8-e4d1b8201024"
   },
   "outputs": [],
   "source": [
    "y_train.value_counts()"
   ]
  },
  {
   "cell_type": "markdown",
   "id": "49ea24ee",
   "metadata": {
    "id": "interpreted-collapse"
   },
   "source": [
    "# Model Training"
   ]
  },
  {
   "cell_type": "code",
   "execution_count": null,
   "id": "eecba62e",
   "metadata": {
    "id": "after-sunglasses"
   },
   "outputs": [],
   "source": [
    "# classify function\n",
    "from sklearn.model_selection import cross_val_score\n",
    "def classify(model, x,y):\n",
    "    x_train, x_test, y_train, y_test = train_test_split(x, y, test_size = 0.25, random_state = 21)\n",
    "    model.fit(x_train, y_train)\n",
    "    print(\"Accuracy is \", model.score(x_test, y_test)*100)\n",
    "    # cross validation - it is used for better validation of the model\n",
    "    # cv-5, train-4, test-1\n",
    "    score = cross_val_score(model, x, y, cv=5)\n",
    "    print(\"Cross validation is \", np.mean(score)*100)"
   ]
  },
  {
   "cell_type": "code",
   "execution_count": null,
   "id": "0448b922",
   "metadata": {
    "id": "advised-stress",
    "outputId": "f5409348-f3dd-4011-fe51-8ed577c304ad"
   },
   "outputs": [],
   "source": [
    "from sklearn.linear_model import LogisticRegression\n",
    "model = LogisticRegression()\n",
    "classify(model, x, y)"
   ]
  },
  {
   "cell_type": "code",
   "execution_count": null,
   "id": "a5247817",
   "metadata": {
    "id": "complicated-nashville",
    "outputId": "7e27f7c7-1228-4968-b4fc-298f625c9650"
   },
   "outputs": [],
   "source": [
    "from sklearn.tree import DecisionTreeClassifier\n",
    "model = DecisionTreeClassifier()\n",
    "classify(model, x, y)"
   ]
  },
  {
   "cell_type": "code",
   "execution_count": null,
   "id": "dc1376f9",
   "metadata": {
    "id": "handy-silicon",
    "outputId": "c810f466-594a-49d0-eaad-4b255ad2f793"
   },
   "outputs": [],
   "source": [
    "from sklearn.ensemble import RandomForestClassifier, ExtraTreesClassifier\n",
    "model = RandomForestClassifier()\n",
    "classify(model, x, y)"
   ]
  },
  {
   "cell_type": "code",
   "execution_count": null,
   "id": "ab2aef8c",
   "metadata": {
    "id": "different-thriller",
    "outputId": "aca67bf6-2920-4466-db41-cbc9dcf24647"
   },
   "outputs": [],
   "source": [
    "model = xgb.XGBRegressor(n_estimators=100, reg_lambda=1, gamma=0, max_depth=3)\n",
    "model.fit(x_train, y_train)"
   ]
  },
  {
   "cell_type": "code",
   "execution_count": null,
   "id": "a8f2d450",
   "metadata": {
    "id": "coordinated-tunnel"
   },
   "outputs": [],
   "source": [
    "y_pred = model.predict(x_test)"
   ]
  },
  {
   "cell_type": "code",
   "execution_count": null,
   "id": "29886005",
   "metadata": {
    "id": "dedicated-drunk",
    "outputId": "4a1adc1b-d182-4ab3-c777-6ac68cf5e901"
   },
   "outputs": [],
   "source": [
    "from sklearn.metrics import mean_squared_error\n",
    "mean_squared_error(y_test, y_pred)"
   ]
  },
  {
   "cell_type": "code",
   "execution_count": null,
   "id": "7dc4f97e",
   "metadata": {
    "id": "clear-beads",
    "outputId": "bd39eb6d-cff2-4e99-849c-8072e70808ee"
   },
   "outputs": [],
   "source": [
    "from sklearn.metrics import confusion_matrix\n",
    "y_pred = model.predict(x_test)\n",
    "cm = confusion_matrix(y_test, y_pred.round())\n",
    "cm"
   ]
  },
  {
   "cell_type": "markdown",
   "id": "ef67921e",
   "metadata": {
    "id": "undefined-albany"
   },
   "source": [
    "# Confusion Matrix"
   ]
  },
  {
   "cell_type": "raw",
   "id": "5c7ff70f",
   "metadata": {
    "id": "established-newsletter"
   },
   "source": [
    "A confusion matrix is a summary of prediction results on a classification problem. The number of correct and incorrect predictions are summarized with count values and brokem down by each class. It gives us insight not only into the errors being made by a classifier but more importantly the types of errors that are being made"
   ]
  },
  {
   "cell_type": "code",
   "execution_count": null,
   "id": "c25b8217",
   "metadata": {
    "id": "domestic-kingdom",
    "outputId": "86b45138-6aad-4d1b-a7fb-451561fb1048"
   },
   "outputs": [],
   "source": [
    "sns.heatmap(cm, annot = True)"
   ]
  },
  {
   "cell_type": "code",
   "execution_count": null,
   "id": "d30042aa",
   "metadata": {
    "id": "incorporate-apache",
    "outputId": "8b78a0e5-9049-47bb-9c96-497ecca8835f"
   },
   "outputs": [],
   "source": [
    "y_train.value_counts()"
   ]
  },
  {
   "cell_type": "markdown",
   "id": "1da63280",
   "metadata": {
    "id": "organic-foster"
   },
   "source": [
    "# Saving the Model"
   ]
  },
  {
   "cell_type": "code",
   "execution_count": null,
   "id": "abc13ebf",
   "metadata": {
    "id": "faced-communication",
    "outputId": "b32211d9-8f2c-4ccc-f82d-5fe9410dc74e"
   },
   "outputs": [],
   "source": [
    "import pickle\n",
    "saved_model = pickle.dumps(model)\n",
    "saved_model_from_pickle = pickle.loads(saved_model)\n",
    "saved_model_from_pickle.predict(x_test)"
   ]
  },
  {
   "cell_type": "code",
   "execution_count": null,
   "id": "0ac32337",
   "metadata": {
    "id": "mysterious-harvest",
    "outputId": "6e443c45-65bd-4d7a-c84f-4316f4b34ea1"
   },
   "outputs": [],
   "source": [
    "import joblib\n",
    "joblib.dump(model, 'modelb.pkl') "
   ]
  },
  {
   "cell_type": "code",
   "execution_count": null,
   "id": "8c9bfdbf",
   "metadata": {
    "id": "prescription-idaho",
    "outputId": "a9bb4e19-5b1e-4569-d55f-aa1ecb8214bf"
   },
   "outputs": [],
   "source": [
    "x_test"
   ]
  },
  {
   "cell_type": "code",
   "execution_count": null,
   "id": "12bd4d28",
   "metadata": {
    "id": "genuine-confidence"
   },
   "outputs": [],
   "source": []
  }
 ],
 "metadata": {
  "colab": {
   "provenance": []
  },
  "kernelspec": {
   "display_name": "Python 3 (ipykernel)",
   "language": "python",
   "name": "python3"
  },
  "language_info": {
   "codemirror_mode": {
    "name": "ipython",
    "version": 3
   },
   "file_extension": ".py",
   "mimetype": "text/x-python",
   "name": "python",
   "nbconvert_exporter": "python",
   "pygments_lexer": "ipython3",
   "version": "3.9.7"
  }
 },
 "nbformat": 4,
 "nbformat_minor": 5
}
